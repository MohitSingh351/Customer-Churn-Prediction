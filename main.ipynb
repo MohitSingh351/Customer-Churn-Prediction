{
 "cells": [
  {
   "cell_type": "code",
   "execution_count": 119,
   "metadata": {},
   "outputs": [],
   "source": [
    "import numpy as np\n",
    "import pandas as pd\n",
    "import matplotlib.pyplot as plt\n",
    "import seaborn as sns\n",
    "sns.set_theme(style=\"whitegrid\")\n",
    "import os\n",
    "from sklearn.model_selection import train_test_split\n",
    "from sklearn.preprocessing import StandardScaler, MinMaxScaler\n",
    "import tensorflow as tf\n",
    "from tensorflow import keras\n",
    "from tensorflow.keras.layers import Dense, Input, BatchNormalization, Dropout\n",
    "from tensorflow.keras.models import Sequential\n",
    "\n",
    "from tensorflow.keras.callbacks import EarlyStopping\n",
    "import warnings\n",
    "warnings.filterwarnings('ignore')\n",
    "from sklearn.metrics import classification_report, confusion_matrix, accuracy_score\n",
    "\n",
    "# increase columns displayed in pandas\n",
    "pd.set_option('display.max_columns', 500)"
   ]
  },
  {
   "cell_type": "code",
   "execution_count": 120,
   "metadata": {},
   "outputs": [
    {
     "data": {
      "text/html": [
       "<div>\n",
       "<style scoped>\n",
       "    .dataframe tbody tr th:only-of-type {\n",
       "        vertical-align: middle;\n",
       "    }\n",
       "\n",
       "    .dataframe tbody tr th {\n",
       "        vertical-align: top;\n",
       "    }\n",
       "\n",
       "    .dataframe thead th {\n",
       "        text-align: right;\n",
       "    }\n",
       "</style>\n",
       "<table border=\"1\" class=\"dataframe\">\n",
       "  <thead>\n",
       "    <tr style=\"text-align: right;\">\n",
       "      <th></th>\n",
       "      <th>customerID</th>\n",
       "      <th>gender</th>\n",
       "      <th>SeniorCitizen</th>\n",
       "      <th>Partner</th>\n",
       "      <th>Dependents</th>\n",
       "      <th>tenure</th>\n",
       "      <th>PhoneService</th>\n",
       "      <th>MultipleLines</th>\n",
       "      <th>InternetService</th>\n",
       "      <th>OnlineSecurity</th>\n",
       "      <th>OnlineBackup</th>\n",
       "      <th>DeviceProtection</th>\n",
       "      <th>TechSupport</th>\n",
       "      <th>StreamingTV</th>\n",
       "      <th>StreamingMovies</th>\n",
       "      <th>Contract</th>\n",
       "      <th>PaperlessBilling</th>\n",
       "      <th>PaymentMethod</th>\n",
       "      <th>MonthlyCharges</th>\n",
       "      <th>TotalCharges</th>\n",
       "      <th>Churn</th>\n",
       "    </tr>\n",
       "  </thead>\n",
       "  <tbody>\n",
       "    <tr>\n",
       "      <th>0</th>\n",
       "      <td>7590-VHVEG</td>\n",
       "      <td>Female</td>\n",
       "      <td>0</td>\n",
       "      <td>Yes</td>\n",
       "      <td>No</td>\n",
       "      <td>1</td>\n",
       "      <td>No</td>\n",
       "      <td>No phone service</td>\n",
       "      <td>DSL</td>\n",
       "      <td>No</td>\n",
       "      <td>Yes</td>\n",
       "      <td>No</td>\n",
       "      <td>No</td>\n",
       "      <td>No</td>\n",
       "      <td>No</td>\n",
       "      <td>Month-to-month</td>\n",
       "      <td>Yes</td>\n",
       "      <td>Electronic check</td>\n",
       "      <td>29.85</td>\n",
       "      <td>29.85</td>\n",
       "      <td>No</td>\n",
       "    </tr>\n",
       "    <tr>\n",
       "      <th>1</th>\n",
       "      <td>5575-GNVDE</td>\n",
       "      <td>Male</td>\n",
       "      <td>0</td>\n",
       "      <td>No</td>\n",
       "      <td>No</td>\n",
       "      <td>34</td>\n",
       "      <td>Yes</td>\n",
       "      <td>No</td>\n",
       "      <td>DSL</td>\n",
       "      <td>Yes</td>\n",
       "      <td>No</td>\n",
       "      <td>Yes</td>\n",
       "      <td>No</td>\n",
       "      <td>No</td>\n",
       "      <td>No</td>\n",
       "      <td>One year</td>\n",
       "      <td>No</td>\n",
       "      <td>Mailed check</td>\n",
       "      <td>56.95</td>\n",
       "      <td>1889.5</td>\n",
       "      <td>No</td>\n",
       "    </tr>\n",
       "    <tr>\n",
       "      <th>2</th>\n",
       "      <td>3668-QPYBK</td>\n",
       "      <td>Male</td>\n",
       "      <td>0</td>\n",
       "      <td>No</td>\n",
       "      <td>No</td>\n",
       "      <td>2</td>\n",
       "      <td>Yes</td>\n",
       "      <td>No</td>\n",
       "      <td>DSL</td>\n",
       "      <td>Yes</td>\n",
       "      <td>Yes</td>\n",
       "      <td>No</td>\n",
       "      <td>No</td>\n",
       "      <td>No</td>\n",
       "      <td>No</td>\n",
       "      <td>Month-to-month</td>\n",
       "      <td>Yes</td>\n",
       "      <td>Mailed check</td>\n",
       "      <td>53.85</td>\n",
       "      <td>108.15</td>\n",
       "      <td>Yes</td>\n",
       "    </tr>\n",
       "    <tr>\n",
       "      <th>3</th>\n",
       "      <td>7795-CFOCW</td>\n",
       "      <td>Male</td>\n",
       "      <td>0</td>\n",
       "      <td>No</td>\n",
       "      <td>No</td>\n",
       "      <td>45</td>\n",
       "      <td>No</td>\n",
       "      <td>No phone service</td>\n",
       "      <td>DSL</td>\n",
       "      <td>Yes</td>\n",
       "      <td>No</td>\n",
       "      <td>Yes</td>\n",
       "      <td>Yes</td>\n",
       "      <td>No</td>\n",
       "      <td>No</td>\n",
       "      <td>One year</td>\n",
       "      <td>No</td>\n",
       "      <td>Bank transfer (automatic)</td>\n",
       "      <td>42.30</td>\n",
       "      <td>1840.75</td>\n",
       "      <td>No</td>\n",
       "    </tr>\n",
       "    <tr>\n",
       "      <th>4</th>\n",
       "      <td>9237-HQITU</td>\n",
       "      <td>Female</td>\n",
       "      <td>0</td>\n",
       "      <td>No</td>\n",
       "      <td>No</td>\n",
       "      <td>2</td>\n",
       "      <td>Yes</td>\n",
       "      <td>No</td>\n",
       "      <td>Fiber optic</td>\n",
       "      <td>No</td>\n",
       "      <td>No</td>\n",
       "      <td>No</td>\n",
       "      <td>No</td>\n",
       "      <td>No</td>\n",
       "      <td>No</td>\n",
       "      <td>Month-to-month</td>\n",
       "      <td>Yes</td>\n",
       "      <td>Electronic check</td>\n",
       "      <td>70.70</td>\n",
       "      <td>151.65</td>\n",
       "      <td>Yes</td>\n",
       "    </tr>\n",
       "  </tbody>\n",
       "</table>\n",
       "</div>"
      ],
      "text/plain": [
       "   customerID  gender  SeniorCitizen Partner Dependents  tenure PhoneService  \\\n",
       "0  7590-VHVEG  Female              0     Yes         No       1           No   \n",
       "1  5575-GNVDE    Male              0      No         No      34          Yes   \n",
       "2  3668-QPYBK    Male              0      No         No       2          Yes   \n",
       "3  7795-CFOCW    Male              0      No         No      45           No   \n",
       "4  9237-HQITU  Female              0      No         No       2          Yes   \n",
       "\n",
       "      MultipleLines InternetService OnlineSecurity OnlineBackup  \\\n",
       "0  No phone service             DSL             No          Yes   \n",
       "1                No             DSL            Yes           No   \n",
       "2                No             DSL            Yes          Yes   \n",
       "3  No phone service             DSL            Yes           No   \n",
       "4                No     Fiber optic             No           No   \n",
       "\n",
       "  DeviceProtection TechSupport StreamingTV StreamingMovies        Contract  \\\n",
       "0               No          No          No              No  Month-to-month   \n",
       "1              Yes          No          No              No        One year   \n",
       "2               No          No          No              No  Month-to-month   \n",
       "3              Yes         Yes          No              No        One year   \n",
       "4               No          No          No              No  Month-to-month   \n",
       "\n",
       "  PaperlessBilling              PaymentMethod  MonthlyCharges TotalCharges  \\\n",
       "0              Yes           Electronic check           29.85        29.85   \n",
       "1               No               Mailed check           56.95       1889.5   \n",
       "2              Yes               Mailed check           53.85       108.15   \n",
       "3               No  Bank transfer (automatic)           42.30      1840.75   \n",
       "4              Yes           Electronic check           70.70       151.65   \n",
       "\n",
       "  Churn  \n",
       "0    No  \n",
       "1    No  \n",
       "2   Yes  \n",
       "3    No  \n",
       "4   Yes  "
      ]
     },
     "execution_count": 120,
     "metadata": {},
     "output_type": "execute_result"
    }
   ],
   "source": [
    "raw_data = pd.read_csv(\"WA_Fn-UseC_-Telco-Customer-Churn.csv\")\n",
    "raw_data.head(5)"
   ]
  },
  {
   "cell_type": "code",
   "execution_count": 121,
   "metadata": {},
   "outputs": [
    {
     "name": "stdout",
     "output_type": "stream",
     "text": [
      "<class 'pandas.core.frame.DataFrame'>\n",
      "RangeIndex: 7043 entries, 0 to 7042\n",
      "Data columns (total 21 columns):\n",
      " #   Column            Non-Null Count  Dtype  \n",
      "---  ------            --------------  -----  \n",
      " 0   customerID        7043 non-null   object \n",
      " 1   gender            7043 non-null   object \n",
      " 2   SeniorCitizen     7043 non-null   int64  \n",
      " 3   Partner           7043 non-null   object \n",
      " 4   Dependents        7043 non-null   object \n",
      " 5   tenure            7043 non-null   int64  \n",
      " 6   PhoneService      7043 non-null   object \n",
      " 7   MultipleLines     7043 non-null   object \n",
      " 8   InternetService   7043 non-null   object \n",
      " 9   OnlineSecurity    7043 non-null   object \n",
      " 10  OnlineBackup      7043 non-null   object \n",
      " 11  DeviceProtection  7043 non-null   object \n",
      " 12  TechSupport       7043 non-null   object \n",
      " 13  StreamingTV       7043 non-null   object \n",
      " 14  StreamingMovies   7043 non-null   object \n",
      " 15  Contract          7043 non-null   object \n",
      " 16  PaperlessBilling  7043 non-null   object \n",
      " 17  PaymentMethod     7043 non-null   object \n",
      " 18  MonthlyCharges    7043 non-null   float64\n",
      " 19  TotalCharges      7043 non-null   object \n",
      " 20  Churn             7043 non-null   object \n",
      "dtypes: float64(1), int64(2), object(18)\n",
      "memory usage: 1.1+ MB\n"
     ]
    }
   ],
   "source": [
    "raw_data.info()"
   ]
  },
  {
   "cell_type": "code",
   "execution_count": 122,
   "metadata": {},
   "outputs": [
    {
     "data": {
      "text/plain": [
       "(7043, 21)"
      ]
     },
     "execution_count": 122,
     "metadata": {},
     "output_type": "execute_result"
    }
   ],
   "source": [
    "raw_data.shape"
   ]
  },
  {
   "cell_type": "code",
   "execution_count": 123,
   "metadata": {},
   "outputs": [
    {
     "data": {
      "text/plain": [
       "array(['customerID', 'gender', 'SeniorCitizen', 'Partner', 'Dependents',\n",
       "       'tenure', 'PhoneService', 'MultipleLines', 'InternetService',\n",
       "       'OnlineSecurity', 'OnlineBackup', 'DeviceProtection',\n",
       "       'TechSupport', 'StreamingTV', 'StreamingMovies', 'Contract',\n",
       "       'PaperlessBilling', 'PaymentMethod', 'MonthlyCharges',\n",
       "       'TotalCharges', 'Churn'], dtype=object)"
      ]
     },
     "execution_count": 123,
     "metadata": {},
     "output_type": "execute_result"
    }
   ],
   "source": [
    "raw_data.columns.values"
   ]
  },
  {
   "cell_type": "code",
   "execution_count": 124,
   "metadata": {},
   "outputs": [],
   "source": [
    "raw_data.drop('customerID', axis=1, inplace=True)"
   ]
  },
  {
   "cell_type": "code",
   "execution_count": 125,
   "metadata": {},
   "outputs": [
    {
     "data": {
      "text/plain": [
       "gender              0\n",
       "SeniorCitizen       0\n",
       "Partner             0\n",
       "Dependents          0\n",
       "tenure              0\n",
       "PhoneService        0\n",
       "MultipleLines       0\n",
       "InternetService     0\n",
       "OnlineSecurity      0\n",
       "OnlineBackup        0\n",
       "DeviceProtection    0\n",
       "TechSupport         0\n",
       "StreamingTV         0\n",
       "StreamingMovies     0\n",
       "Contract            0\n",
       "PaperlessBilling    0\n",
       "PaymentMethod       0\n",
       "MonthlyCharges      0\n",
       "TotalCharges        0\n",
       "Churn               0\n",
       "dtype: int64"
      ]
     },
     "execution_count": 125,
     "metadata": {},
     "output_type": "execute_result"
    }
   ],
   "source": [
    "raw_data.isna().sum()"
   ]
  },
  {
   "cell_type": "code",
   "execution_count": 126,
   "metadata": {},
   "outputs": [],
   "source": [
    "raw_data.dropna(inplace=True)"
   ]
  },
  {
   "cell_type": "code",
   "execution_count": 127,
   "metadata": {},
   "outputs": [
    {
     "data": {
      "text/plain": [
       "gender               0\n",
       "SeniorCitizen        0\n",
       "Partner              0\n",
       "Dependents           0\n",
       "tenure               0\n",
       "PhoneService         0\n",
       "MultipleLines        0\n",
       "InternetService      0\n",
       "OnlineSecurity       0\n",
       "OnlineBackup         0\n",
       "DeviceProtection     0\n",
       "TechSupport          0\n",
       "StreamingTV          0\n",
       "StreamingMovies      0\n",
       "Contract             0\n",
       "PaperlessBilling     0\n",
       "PaymentMethod        0\n",
       "MonthlyCharges       0\n",
       "TotalCharges        11\n",
       "Churn                0\n",
       "dtype: int64"
      ]
     },
     "execution_count": 127,
     "metadata": {},
     "output_type": "execute_result"
    }
   ],
   "source": [
    "raw_data['TotalCharges'] = pd.to_numeric(raw_data.TotalCharges, errors='coerce')\n",
    "raw_data.isna().sum()"
   ]
  },
  {
   "cell_type": "code",
   "execution_count": 128,
   "metadata": {},
   "outputs": [],
   "source": [
    "raw_data.dropna(inplace=True)"
   ]
  },
  {
   "cell_type": "code",
   "execution_count": 129,
   "metadata": {},
   "outputs": [
    {
     "data": {
      "text/plain": [
       "gender              0\n",
       "SeniorCitizen       0\n",
       "Partner             0\n",
       "Dependents          0\n",
       "tenure              0\n",
       "PhoneService        0\n",
       "MultipleLines       0\n",
       "InternetService     0\n",
       "OnlineSecurity      0\n",
       "OnlineBackup        0\n",
       "DeviceProtection    0\n",
       "TechSupport         0\n",
       "StreamingTV         0\n",
       "StreamingMovies     0\n",
       "Contract            0\n",
       "PaperlessBilling    0\n",
       "PaymentMethod       0\n",
       "MonthlyCharges      0\n",
       "TotalCharges        0\n",
       "Churn               0\n",
       "dtype: int64"
      ]
     },
     "execution_count": 129,
     "metadata": {},
     "output_type": "execute_result"
    }
   ],
   "source": [
    "raw_data.isnull().sum()"
   ]
  },
  {
   "cell_type": "code",
   "execution_count": 130,
   "metadata": {},
   "outputs": [],
   "source": [
    "def print_unique_column_values(data):\n",
    "    for column in data.columns:\n",
    "        print(f'{column} : {data[column].unique()}')"
   ]
  },
  {
   "cell_type": "code",
   "execution_count": 131,
   "metadata": {},
   "outputs": [
    {
     "name": "stdout",
     "output_type": "stream",
     "text": [
      "gender : ['Female' 'Male']\n",
      "SeniorCitizen : [0 1]\n",
      "Partner : ['Yes' 'No']\n",
      "Dependents : ['No' 'Yes']\n",
      "tenure : [ 1 34  2 45  8 22 10 28 62 13 16 58 49 25 69 52 71 21 12 30 47 72 17 27\n",
      "  5 46 11 70 63 43 15 60 18 66  9  3 31 50 64 56  7 42 35 48 29 65 38 68\n",
      " 32 55 37 36 41  6  4 33 67 23 57 61 14 20 53 40 59 24 44 19 54 51 26 39]\n",
      "PhoneService : ['No' 'Yes']\n",
      "MultipleLines : ['No phone service' 'No' 'Yes']\n",
      "InternetService : ['DSL' 'Fiber optic' 'No']\n",
      "OnlineSecurity : ['No' 'Yes' 'No internet service']\n",
      "OnlineBackup : ['Yes' 'No' 'No internet service']\n",
      "DeviceProtection : ['No' 'Yes' 'No internet service']\n",
      "TechSupport : ['No' 'Yes' 'No internet service']\n",
      "StreamingTV : ['No' 'Yes' 'No internet service']\n",
      "StreamingMovies : ['No' 'Yes' 'No internet service']\n",
      "Contract : ['Month-to-month' 'One year' 'Two year']\n",
      "PaperlessBilling : ['Yes' 'No']\n",
      "PaymentMethod : ['Electronic check' 'Mailed check' 'Bank transfer (automatic)'\n",
      " 'Credit card (automatic)']\n",
      "MonthlyCharges : [29.85 56.95 53.85 ... 63.1  44.2  78.7 ]\n",
      "TotalCharges : [  29.85 1889.5   108.15 ...  346.45  306.6  6844.5 ]\n",
      "Churn : ['No' 'Yes']\n"
     ]
    }
   ],
   "source": [
    "print_unique_column_values(raw_data)"
   ]
  },
  {
   "cell_type": "code",
   "execution_count": 132,
   "metadata": {},
   "outputs": [],
   "source": [
    "raw_data.replace('No internet service', 'No', inplace=True)\n",
    "raw_data.replace('No phone service', 'No', inplace=True)"
   ]
  },
  {
   "cell_type": "code",
   "execution_count": 133,
   "metadata": {},
   "outputs": [
    {
     "name": "stdout",
     "output_type": "stream",
     "text": [
      "gender : ['Female' 'Male']\n",
      "SeniorCitizen : [0 1]\n",
      "Partner : ['Yes' 'No']\n",
      "Dependents : ['No' 'Yes']\n",
      "tenure : [ 1 34  2 45  8 22 10 28 62 13 16 58 49 25 69 52 71 21 12 30 47 72 17 27\n",
      "  5 46 11 70 63 43 15 60 18 66  9  3 31 50 64 56  7 42 35 48 29 65 38 68\n",
      " 32 55 37 36 41  6  4 33 67 23 57 61 14 20 53 40 59 24 44 19 54 51 26 39]\n",
      "PhoneService : ['No' 'Yes']\n",
      "MultipleLines : ['No' 'Yes']\n",
      "InternetService : ['DSL' 'Fiber optic' 'No']\n",
      "OnlineSecurity : ['No' 'Yes']\n",
      "OnlineBackup : ['Yes' 'No']\n",
      "DeviceProtection : ['No' 'Yes']\n",
      "TechSupport : ['No' 'Yes']\n",
      "StreamingTV : ['No' 'Yes']\n",
      "StreamingMovies : ['No' 'Yes']\n",
      "Contract : ['Month-to-month' 'One year' 'Two year']\n",
      "PaperlessBilling : ['Yes' 'No']\n",
      "PaymentMethod : ['Electronic check' 'Mailed check' 'Bank transfer (automatic)'\n",
      " 'Credit card (automatic)']\n",
      "MonthlyCharges : [29.85 56.95 53.85 ... 63.1  44.2  78.7 ]\n",
      "TotalCharges : [  29.85 1889.5   108.15 ...  346.45  306.6  6844.5 ]\n",
      "Churn : ['No' 'Yes']\n"
     ]
    }
   ],
   "source": [
    "print_unique_column_values(raw_data)"
   ]
  },
  {
   "cell_type": "code",
   "execution_count": 134,
   "metadata": {},
   "outputs": [],
   "source": [
    "yes_no_columns = ['Partner', 'Dependents', 'PhoneService', 'MultipleLines', 'OnlineSecurity', 'OnlineBackup', 'DeviceProtection', 'TechSupport', 'StreamingTV', 'StreamingMovies', 'PaperlessBilling', 'Churn']"
   ]
  },
  {
   "cell_type": "code",
   "execution_count": 135,
   "metadata": {},
   "outputs": [
    {
     "name": "stdout",
     "output_type": "stream",
     "text": [
      "gender : ['Female' 'Male']\n",
      "SeniorCitizen : [0 1]\n",
      "Partner : [1 0]\n",
      "Dependents : [0 1]\n",
      "tenure : [ 1 34  2 45  8 22 10 28 62 13 16 58 49 25 69 52 71 21 12 30 47 72 17 27\n",
      "  5 46 11 70 63 43 15 60 18 66  9  3 31 50 64 56  7 42 35 48 29 65 38 68\n",
      " 32 55 37 36 41  6  4 33 67 23 57 61 14 20 53 40 59 24 44 19 54 51 26 39]\n",
      "PhoneService : [0 1]\n",
      "MultipleLines : [0 1]\n",
      "InternetService : ['DSL' 'Fiber optic' 'No']\n",
      "OnlineSecurity : [0 1]\n",
      "OnlineBackup : [1 0]\n",
      "DeviceProtection : [0 1]\n",
      "TechSupport : [0 1]\n",
      "StreamingTV : [0 1]\n",
      "StreamingMovies : [0 1]\n",
      "Contract : ['Month-to-month' 'One year' 'Two year']\n",
      "PaperlessBilling : [1 0]\n",
      "PaymentMethod : ['Electronic check' 'Mailed check' 'Bank transfer (automatic)'\n",
      " 'Credit card (automatic)']\n",
      "MonthlyCharges : [29.85 56.95 53.85 ... 63.1  44.2  78.7 ]\n",
      "TotalCharges : [  29.85 1889.5   108.15 ...  346.45  306.6  6844.5 ]\n",
      "Churn : [0 1]\n"
     ]
    }
   ],
   "source": [
    "raw_data[yes_no_columns] = raw_data[yes_no_columns].replace({'Yes': 1, 'No': 0})\n",
    "print_unique_column_values(raw_data)"
   ]
  },
  {
   "cell_type": "code",
   "execution_count": 136,
   "metadata": {},
   "outputs": [],
   "source": [
    "raw_data[\"gender\"].replace({\"Female\": 1, \"Male\": 0}, inplace=True)"
   ]
  },
  {
   "cell_type": "code",
   "execution_count": 137,
   "metadata": {},
   "outputs": [],
   "source": [
    "df2 = pd.get_dummies(raw_data, columns=['InternetService', 'Contract', 'PaymentMethod'])"
   ]
  },
  {
   "cell_type": "code",
   "execution_count": 138,
   "metadata": {},
   "outputs": [
    {
     "data": {
      "text/html": [
       "<div>\n",
       "<style scoped>\n",
       "    .dataframe tbody tr th:only-of-type {\n",
       "        vertical-align: middle;\n",
       "    }\n",
       "\n",
       "    .dataframe tbody tr th {\n",
       "        vertical-align: top;\n",
       "    }\n",
       "\n",
       "    .dataframe thead th {\n",
       "        text-align: right;\n",
       "    }\n",
       "</style>\n",
       "<table border=\"1\" class=\"dataframe\">\n",
       "  <thead>\n",
       "    <tr style=\"text-align: right;\">\n",
       "      <th></th>\n",
       "      <th>gender</th>\n",
       "      <th>SeniorCitizen</th>\n",
       "      <th>Partner</th>\n",
       "      <th>Dependents</th>\n",
       "      <th>tenure</th>\n",
       "      <th>PhoneService</th>\n",
       "      <th>MultipleLines</th>\n",
       "      <th>OnlineSecurity</th>\n",
       "      <th>OnlineBackup</th>\n",
       "      <th>DeviceProtection</th>\n",
       "      <th>TechSupport</th>\n",
       "      <th>StreamingTV</th>\n",
       "      <th>StreamingMovies</th>\n",
       "      <th>PaperlessBilling</th>\n",
       "      <th>MonthlyCharges</th>\n",
       "      <th>TotalCharges</th>\n",
       "      <th>Churn</th>\n",
       "      <th>InternetService_DSL</th>\n",
       "      <th>InternetService_Fiber optic</th>\n",
       "      <th>InternetService_No</th>\n",
       "      <th>Contract_Month-to-month</th>\n",
       "      <th>Contract_One year</th>\n",
       "      <th>Contract_Two year</th>\n",
       "      <th>PaymentMethod_Bank transfer (automatic)</th>\n",
       "      <th>PaymentMethod_Credit card (automatic)</th>\n",
       "      <th>PaymentMethod_Electronic check</th>\n",
       "      <th>PaymentMethod_Mailed check</th>\n",
       "    </tr>\n",
       "  </thead>\n",
       "  <tbody>\n",
       "    <tr>\n",
       "      <th>0</th>\n",
       "      <td>1</td>\n",
       "      <td>0</td>\n",
       "      <td>1</td>\n",
       "      <td>0</td>\n",
       "      <td>0.000000</td>\n",
       "      <td>0</td>\n",
       "      <td>0</td>\n",
       "      <td>0</td>\n",
       "      <td>1</td>\n",
       "      <td>0</td>\n",
       "      <td>0</td>\n",
       "      <td>0</td>\n",
       "      <td>0</td>\n",
       "      <td>1</td>\n",
       "      <td>0.115423</td>\n",
       "      <td>0.001275</td>\n",
       "      <td>0</td>\n",
       "      <td>True</td>\n",
       "      <td>False</td>\n",
       "      <td>False</td>\n",
       "      <td>True</td>\n",
       "      <td>False</td>\n",
       "      <td>False</td>\n",
       "      <td>False</td>\n",
       "      <td>False</td>\n",
       "      <td>True</td>\n",
       "      <td>False</td>\n",
       "    </tr>\n",
       "    <tr>\n",
       "      <th>1</th>\n",
       "      <td>0</td>\n",
       "      <td>0</td>\n",
       "      <td>0</td>\n",
       "      <td>0</td>\n",
       "      <td>0.464789</td>\n",
       "      <td>1</td>\n",
       "      <td>0</td>\n",
       "      <td>1</td>\n",
       "      <td>0</td>\n",
       "      <td>1</td>\n",
       "      <td>0</td>\n",
       "      <td>0</td>\n",
       "      <td>0</td>\n",
       "      <td>0</td>\n",
       "      <td>0.385075</td>\n",
       "      <td>0.215867</td>\n",
       "      <td>0</td>\n",
       "      <td>True</td>\n",
       "      <td>False</td>\n",
       "      <td>False</td>\n",
       "      <td>False</td>\n",
       "      <td>True</td>\n",
       "      <td>False</td>\n",
       "      <td>False</td>\n",
       "      <td>False</td>\n",
       "      <td>False</td>\n",
       "      <td>True</td>\n",
       "    </tr>\n",
       "    <tr>\n",
       "      <th>2</th>\n",
       "      <td>0</td>\n",
       "      <td>0</td>\n",
       "      <td>0</td>\n",
       "      <td>0</td>\n",
       "      <td>0.014085</td>\n",
       "      <td>1</td>\n",
       "      <td>0</td>\n",
       "      <td>1</td>\n",
       "      <td>1</td>\n",
       "      <td>0</td>\n",
       "      <td>0</td>\n",
       "      <td>0</td>\n",
       "      <td>0</td>\n",
       "      <td>1</td>\n",
       "      <td>0.354229</td>\n",
       "      <td>0.010310</td>\n",
       "      <td>1</td>\n",
       "      <td>True</td>\n",
       "      <td>False</td>\n",
       "      <td>False</td>\n",
       "      <td>True</td>\n",
       "      <td>False</td>\n",
       "      <td>False</td>\n",
       "      <td>False</td>\n",
       "      <td>False</td>\n",
       "      <td>False</td>\n",
       "      <td>True</td>\n",
       "    </tr>\n",
       "    <tr>\n",
       "      <th>3</th>\n",
       "      <td>0</td>\n",
       "      <td>0</td>\n",
       "      <td>0</td>\n",
       "      <td>0</td>\n",
       "      <td>0.619718</td>\n",
       "      <td>0</td>\n",
       "      <td>0</td>\n",
       "      <td>1</td>\n",
       "      <td>0</td>\n",
       "      <td>1</td>\n",
       "      <td>1</td>\n",
       "      <td>0</td>\n",
       "      <td>0</td>\n",
       "      <td>0</td>\n",
       "      <td>0.239303</td>\n",
       "      <td>0.210241</td>\n",
       "      <td>0</td>\n",
       "      <td>True</td>\n",
       "      <td>False</td>\n",
       "      <td>False</td>\n",
       "      <td>False</td>\n",
       "      <td>True</td>\n",
       "      <td>False</td>\n",
       "      <td>True</td>\n",
       "      <td>False</td>\n",
       "      <td>False</td>\n",
       "      <td>False</td>\n",
       "    </tr>\n",
       "    <tr>\n",
       "      <th>4</th>\n",
       "      <td>1</td>\n",
       "      <td>0</td>\n",
       "      <td>0</td>\n",
       "      <td>0</td>\n",
       "      <td>0.014085</td>\n",
       "      <td>1</td>\n",
       "      <td>0</td>\n",
       "      <td>0</td>\n",
       "      <td>0</td>\n",
       "      <td>0</td>\n",
       "      <td>0</td>\n",
       "      <td>0</td>\n",
       "      <td>0</td>\n",
       "      <td>1</td>\n",
       "      <td>0.521891</td>\n",
       "      <td>0.015330</td>\n",
       "      <td>1</td>\n",
       "      <td>False</td>\n",
       "      <td>True</td>\n",
       "      <td>False</td>\n",
       "      <td>True</td>\n",
       "      <td>False</td>\n",
       "      <td>False</td>\n",
       "      <td>False</td>\n",
       "      <td>False</td>\n",
       "      <td>True</td>\n",
       "      <td>False</td>\n",
       "    </tr>\n",
       "  </tbody>\n",
       "</table>\n",
       "</div>"
      ],
      "text/plain": [
       "   gender  SeniorCitizen  Partner  Dependents    tenure  PhoneService  \\\n",
       "0       1              0        1           0  0.000000             0   \n",
       "1       0              0        0           0  0.464789             1   \n",
       "2       0              0        0           0  0.014085             1   \n",
       "3       0              0        0           0  0.619718             0   \n",
       "4       1              0        0           0  0.014085             1   \n",
       "\n",
       "   MultipleLines  OnlineSecurity  OnlineBackup  DeviceProtection  TechSupport  \\\n",
       "0              0               0             1                 0            0   \n",
       "1              0               1             0                 1            0   \n",
       "2              0               1             1                 0            0   \n",
       "3              0               1             0                 1            1   \n",
       "4              0               0             0                 0            0   \n",
       "\n",
       "   StreamingTV  StreamingMovies  PaperlessBilling  MonthlyCharges  \\\n",
       "0            0                0                 1        0.115423   \n",
       "1            0                0                 0        0.385075   \n",
       "2            0                0                 1        0.354229   \n",
       "3            0                0                 0        0.239303   \n",
       "4            0                0                 1        0.521891   \n",
       "\n",
       "   TotalCharges  Churn  InternetService_DSL  InternetService_Fiber optic  \\\n",
       "0      0.001275      0                 True                        False   \n",
       "1      0.215867      0                 True                        False   \n",
       "2      0.010310      1                 True                        False   \n",
       "3      0.210241      0                 True                        False   \n",
       "4      0.015330      1                False                         True   \n",
       "\n",
       "   InternetService_No  Contract_Month-to-month  Contract_One year  \\\n",
       "0               False                     True              False   \n",
       "1               False                    False               True   \n",
       "2               False                     True              False   \n",
       "3               False                    False               True   \n",
       "4               False                     True              False   \n",
       "\n",
       "   Contract_Two year  PaymentMethod_Bank transfer (automatic)  \\\n",
       "0              False                                    False   \n",
       "1              False                                    False   \n",
       "2              False                                    False   \n",
       "3              False                                     True   \n",
       "4              False                                    False   \n",
       "\n",
       "   PaymentMethod_Credit card (automatic)  PaymentMethod_Electronic check  \\\n",
       "0                                  False                            True   \n",
       "1                                  False                           False   \n",
       "2                                  False                           False   \n",
       "3                                  False                           False   \n",
       "4                                  False                            True   \n",
       "\n",
       "   PaymentMethod_Mailed check  \n",
       "0                       False  \n",
       "1                        True  \n",
       "2                        True  \n",
       "3                       False  \n",
       "4                       False  "
      ]
     },
     "execution_count": 138,
     "metadata": {},
     "output_type": "execute_result"
    }
   ],
   "source": [
    "cols_to_scale = ['tenure', 'MonthlyCharges', 'TotalCharges']\n",
    "\n",
    "scaler = MinMaxScaler()\n",
    "df2[cols_to_scale] = scaler.fit_transform(df2[cols_to_scale])\n",
    "df2.head()"
   ]
  },
  {
   "cell_type": "code",
   "execution_count": 139,
   "metadata": {},
   "outputs": [
    {
     "name": "stdout",
     "output_type": "stream",
     "text": [
      "gender : [1 0]\n",
      "SeniorCitizen : [0 1]\n",
      "Partner : [1 0]\n",
      "Dependents : [0 1]\n",
      "tenure : [0.         0.46478873 0.01408451 0.61971831 0.09859155 0.29577465\n",
      " 0.12676056 0.38028169 0.85915493 0.16901408 0.21126761 0.8028169\n",
      " 0.67605634 0.33802817 0.95774648 0.71830986 0.98591549 0.28169014\n",
      " 0.15492958 0.4084507  0.64788732 1.         0.22535211 0.36619718\n",
      " 0.05633803 0.63380282 0.14084507 0.97183099 0.87323944 0.5915493\n",
      " 0.1971831  0.83098592 0.23943662 0.91549296 0.11267606 0.02816901\n",
      " 0.42253521 0.69014085 0.88732394 0.77464789 0.08450704 0.57746479\n",
      " 0.47887324 0.66197183 0.3943662  0.90140845 0.52112676 0.94366197\n",
      " 0.43661972 0.76056338 0.50704225 0.49295775 0.56338028 0.07042254\n",
      " 0.04225352 0.45070423 0.92957746 0.30985915 0.78873239 0.84507042\n",
      " 0.18309859 0.26760563 0.73239437 0.54929577 0.81690141 0.32394366\n",
      " 0.6056338  0.25352113 0.74647887 0.70422535 0.35211268 0.53521127]\n",
      "PhoneService : [0 1]\n",
      "MultipleLines : [0 1]\n",
      "OnlineSecurity : [0 1]\n",
      "OnlineBackup : [1 0]\n",
      "DeviceProtection : [0 1]\n",
      "TechSupport : [0 1]\n",
      "StreamingTV : [0 1]\n",
      "StreamingMovies : [0 1]\n",
      "PaperlessBilling : [1 0]\n",
      "MonthlyCharges : [0.11542289 0.38507463 0.35422886 ... 0.44626866 0.25820896 0.60149254]\n",
      "TotalCharges : [0.0012751  0.21586661 0.01031041 ... 0.03780868 0.03321025 0.78764136]\n",
      "Churn : [0 1]\n",
      "InternetService_DSL : [ True False]\n",
      "InternetService_Fiber optic : [False  True]\n",
      "InternetService_No : [False  True]\n",
      "Contract_Month-to-month : [ True False]\n",
      "Contract_One year : [False  True]\n",
      "Contract_Two year : [False  True]\n",
      "PaymentMethod_Bank transfer (automatic) : [False  True]\n",
      "PaymentMethod_Credit card (automatic) : [False  True]\n",
      "PaymentMethod_Electronic check : [ True False]\n",
      "PaymentMethod_Mailed check : [False  True]\n"
     ]
    }
   ],
   "source": [
    "print_unique_column_values(df2)"
   ]
  },
  {
   "cell_type": "code",
   "execution_count": 140,
   "metadata": {},
   "outputs": [],
   "source": [
    "df2 = df2.drop(['InternetService_No', 'Contract_Month-to-month', 'PaymentMethod_Electronic check'], axis=1) # drop redundant columns"
   ]
  },
  {
   "cell_type": "code",
   "execution_count": 141,
   "metadata": {},
   "outputs": [
    {
     "name": "stdout",
     "output_type": "stream",
     "text": [
      "gender : [1 0]\n",
      "SeniorCitizen : [0 1]\n",
      "Partner : [1 0]\n",
      "Dependents : [0 1]\n",
      "tenure : [0.         0.46478873 0.01408451 0.61971831 0.09859155 0.29577465\n",
      " 0.12676056 0.38028169 0.85915493 0.16901408 0.21126761 0.8028169\n",
      " 0.67605634 0.33802817 0.95774648 0.71830986 0.98591549 0.28169014\n",
      " 0.15492958 0.4084507  0.64788732 1.         0.22535211 0.36619718\n",
      " 0.05633803 0.63380282 0.14084507 0.97183099 0.87323944 0.5915493\n",
      " 0.1971831  0.83098592 0.23943662 0.91549296 0.11267606 0.02816901\n",
      " 0.42253521 0.69014085 0.88732394 0.77464789 0.08450704 0.57746479\n",
      " 0.47887324 0.66197183 0.3943662  0.90140845 0.52112676 0.94366197\n",
      " 0.43661972 0.76056338 0.50704225 0.49295775 0.56338028 0.07042254\n",
      " 0.04225352 0.45070423 0.92957746 0.30985915 0.78873239 0.84507042\n",
      " 0.18309859 0.26760563 0.73239437 0.54929577 0.81690141 0.32394366\n",
      " 0.6056338  0.25352113 0.74647887 0.70422535 0.35211268 0.53521127]\n",
      "PhoneService : [0 1]\n",
      "MultipleLines : [0 1]\n",
      "OnlineSecurity : [0 1]\n",
      "OnlineBackup : [1 0]\n",
      "DeviceProtection : [0 1]\n",
      "TechSupport : [0 1]\n",
      "StreamingTV : [0 1]\n",
      "StreamingMovies : [0 1]\n",
      "PaperlessBilling : [1 0]\n",
      "MonthlyCharges : [0.11542289 0.38507463 0.35422886 ... 0.44626866 0.25820896 0.60149254]\n",
      "TotalCharges : [0.0012751  0.21586661 0.01031041 ... 0.03780868 0.03321025 0.78764136]\n",
      "Churn : [0 1]\n",
      "InternetService_DSL : [1 0]\n",
      "InternetService_Fiber optic : [0 1]\n",
      "Contract_One year : [0 1]\n",
      "Contract_Two year : [0 1]\n",
      "PaymentMethod_Bank transfer (automatic) : [0 1]\n",
      "PaymentMethod_Credit card (automatic) : [0 1]\n",
      "PaymentMethod_Mailed check : [0 1]\n"
     ]
    }
   ],
   "source": [
    "# Convert true and false to 1 and 0\n",
    "df2.replace({True: 1, False: 0}, inplace=True)\n",
    "print_unique_column_values(df2)"
   ]
  },
  {
   "cell_type": "code",
   "execution_count": 142,
   "metadata": {},
   "outputs": [],
   "source": [
    "# Separate features (X) and target (y)\n",
    "x = df2.drop('Churn', axis=1)\n",
    "y = df2['Churn']"
   ]
  },
  {
   "cell_type": "code",
   "execution_count": 143,
   "metadata": {},
   "outputs": [],
   "source": [
    "X_train_val, X_test, y_train_val, y_test = train_test_split(x, y, test_size=0.2, random_state=42)\n",
    "X_train, X_val, y_train, y_val = train_test_split(X_train_val, y_train_val, test_size=0.25, random_state=42)"
   ]
  },
  {
   "cell_type": "code",
   "execution_count": 144,
   "metadata": {},
   "outputs": [
    {
     "name": "stdout",
     "output_type": "stream",
     "text": [
      "Training set size: 4218\n",
      "Validation set size: 1407\n",
      "Test set size: 1407\n",
      "X_Train shape: (4218, 23)\n",
      "X_Val shape: (1407, 23)\n",
      "X_Test shape: (1407, 23)\n"
     ]
    }
   ],
   "source": [
    "print(f\"Training set size: {len(X_train)}\")\n",
    "print(f\"Validation set size: {len(X_val)}\")\n",
    "print(f\"Test set size: {len(X_test)}\")\n",
    "\n",
    "print(f\"X_Train shape: {X_train.shape}\")\n",
    "print(f\"X_Val shape: {X_val.shape}\")\n",
    "print(f\"X_Test shape: {X_test.shape}\")"
   ]
  },
  {
   "cell_type": "code",
   "execution_count": 145,
   "metadata": {},
   "outputs": [],
   "source": [
    "model8 = Sequential([\n",
    "    Dense(64, input_shape=(X_train.shape[1],), activation='relu'),\n",
    "    # Dropout layer with a 50% dropout rate\n",
    "    tf.keras.layers.Dropout(0.5),\n",
    "    Dense(64, activation='relu', kernel_regularizer=tf.keras.regularizers.l2(0.001)),\n",
    "    tf.keras.layers.Dropout(0.5),\n",
    "    Dense(32, activation='relu', kernel_regularizer=tf.keras.regularizers.l2(0.001)),\n",
    "    tf.keras.layers.Dropout(0.5),\n",
    "    Dense(1, activation='sigmoid')\n",
    "])"
   ]
  },
  {
   "cell_type": "code",
   "execution_count": 146,
   "metadata": {},
   "outputs": [],
   "source": [
    "model8.compile(optimizer='Adam', loss='binary_crossentropy', metrics=['accuracy'])"
   ]
  },
  {
   "cell_type": "code",
   "execution_count": 147,
   "metadata": {},
   "outputs": [],
   "source": [
    "# Early stopping\n",
    "earlyStopping = EarlyStopping(monitor='val_loss', patience=10, verbose=2, mode='min', restore_best_weights=True)"
   ]
  },
  {
   "cell_type": "code",
   "execution_count": 148,
   "metadata": {},
   "outputs": [
    {
     "name": "stdout",
     "output_type": "stream",
     "text": [
      "Epoch 1/50\n",
      "132/132 - 3s - 23ms/step - accuracy: 0.7058 - loss: 0.6741 - val_accuracy: 0.7292 - val_loss: 0.5749\n",
      "Epoch 2/50\n",
      "132/132 - 0s - 3ms/step - accuracy: 0.7603 - loss: 0.5775 - val_accuracy: 0.7903 - val_loss: 0.5242\n",
      "Epoch 3/50\n",
      "132/132 - 1s - 5ms/step - accuracy: 0.7684 - loss: 0.5487 - val_accuracy: 0.7996 - val_loss: 0.5093\n",
      "Epoch 4/50\n",
      "132/132 - 0s - 3ms/step - accuracy: 0.7748 - loss: 0.5331 - val_accuracy: 0.7967 - val_loss: 0.4895\n",
      "Epoch 5/50\n",
      "132/132 - 0s - 3ms/step - accuracy: 0.7807 - loss: 0.5079 - val_accuracy: 0.8067 - val_loss: 0.4784\n",
      "Epoch 6/50\n",
      "132/132 - 0s - 3ms/step - accuracy: 0.7798 - loss: 0.5012 - val_accuracy: 0.7989 - val_loss: 0.4726\n",
      "Epoch 7/50\n",
      "132/132 - 0s - 3ms/step - accuracy: 0.7892 - loss: 0.4943 - val_accuracy: 0.8081 - val_loss: 0.4631\n",
      "Epoch 8/50\n",
      "132/132 - 0s - 3ms/step - accuracy: 0.7918 - loss: 0.4850 - val_accuracy: 0.7996 - val_loss: 0.4575\n",
      "Epoch 9/50\n",
      "132/132 - 0s - 3ms/step - accuracy: 0.7926 - loss: 0.4724 - val_accuracy: 0.8003 - val_loss: 0.4546\n",
      "Epoch 10/50\n",
      "132/132 - 0s - 3ms/step - accuracy: 0.7859 - loss: 0.4718 - val_accuracy: 0.7974 - val_loss: 0.4506\n",
      "Epoch 11/50\n",
      "132/132 - 0s - 3ms/step - accuracy: 0.7928 - loss: 0.4686 - val_accuracy: 0.8024 - val_loss: 0.4479\n",
      "Epoch 12/50\n",
      "132/132 - 0s - 3ms/step - accuracy: 0.7945 - loss: 0.4632 - val_accuracy: 0.8053 - val_loss: 0.4480\n",
      "Epoch 13/50\n",
      "132/132 - 0s - 3ms/step - accuracy: 0.7999 - loss: 0.4558 - val_accuracy: 0.7996 - val_loss: 0.4433\n",
      "Epoch 14/50\n",
      "132/132 - 0s - 3ms/step - accuracy: 0.7999 - loss: 0.4521 - val_accuracy: 0.8067 - val_loss: 0.4405\n",
      "Epoch 15/50\n",
      "132/132 - 0s - 3ms/step - accuracy: 0.7959 - loss: 0.4494 - val_accuracy: 0.8053 - val_loss: 0.4354\n",
      "Epoch 16/50\n",
      "132/132 - 0s - 4ms/step - accuracy: 0.8009 - loss: 0.4473 - val_accuracy: 0.8024 - val_loss: 0.4371\n",
      "Epoch 17/50\n",
      "132/132 - 0s - 3ms/step - accuracy: 0.8016 - loss: 0.4425 - val_accuracy: 0.7967 - val_loss: 0.4381\n",
      "Epoch 18/50\n",
      "132/132 - 0s - 3ms/step - accuracy: 0.7999 - loss: 0.4406 - val_accuracy: 0.7982 - val_loss: 0.4333\n",
      "Epoch 19/50\n",
      "132/132 - 0s - 2ms/step - accuracy: 0.8013 - loss: 0.4415 - val_accuracy: 0.7974 - val_loss: 0.4328\n",
      "Epoch 20/50\n",
      "132/132 - 0s - 2ms/step - accuracy: 0.8070 - loss: 0.4423 - val_accuracy: 0.7939 - val_loss: 0.4323\n",
      "Epoch 21/50\n",
      "132/132 - 0s - 3ms/step - accuracy: 0.8075 - loss: 0.4352 - val_accuracy: 0.7982 - val_loss: 0.4307\n",
      "Epoch 22/50\n",
      "132/132 - 0s - 3ms/step - accuracy: 0.8051 - loss: 0.4366 - val_accuracy: 0.7982 - val_loss: 0.4291\n",
      "Epoch 23/50\n",
      "132/132 - 0s - 3ms/step - accuracy: 0.7966 - loss: 0.4357 - val_accuracy: 0.7974 - val_loss: 0.4301\n",
      "Epoch 24/50\n",
      "132/132 - 0s - 3ms/step - accuracy: 0.8075 - loss: 0.4333 - val_accuracy: 0.8024 - val_loss: 0.4277\n",
      "Epoch 25/50\n",
      "132/132 - 0s - 3ms/step - accuracy: 0.8058 - loss: 0.4313 - val_accuracy: 0.8003 - val_loss: 0.4295\n",
      "Epoch 26/50\n",
      "132/132 - 0s - 3ms/step - accuracy: 0.8063 - loss: 0.4280 - val_accuracy: 0.8003 - val_loss: 0.4280\n",
      "Epoch 27/50\n",
      "132/132 - 0s - 3ms/step - accuracy: 0.8094 - loss: 0.4292 - val_accuracy: 0.8003 - val_loss: 0.4276\n",
      "Epoch 28/50\n",
      "132/132 - 0s - 3ms/step - accuracy: 0.8084 - loss: 0.4271 - val_accuracy: 0.7989 - val_loss: 0.4286\n",
      "Epoch 29/50\n",
      "132/132 - 0s - 3ms/step - accuracy: 0.8080 - loss: 0.4249 - val_accuracy: 0.8045 - val_loss: 0.4273\n",
      "Epoch 30/50\n",
      "132/132 - 0s - 3ms/step - accuracy: 0.8137 - loss: 0.4213 - val_accuracy: 0.8017 - val_loss: 0.4274\n",
      "Epoch 31/50\n",
      "132/132 - 0s - 3ms/step - accuracy: 0.8120 - loss: 0.4291 - val_accuracy: 0.7974 - val_loss: 0.4273\n",
      "Epoch 32/50\n",
      "132/132 - 0s - 3ms/step - accuracy: 0.8134 - loss: 0.4264 - val_accuracy: 0.8003 - val_loss: 0.4310\n",
      "Epoch 33/50\n",
      "132/132 - 0s - 3ms/step - accuracy: 0.8170 - loss: 0.4222 - val_accuracy: 0.7982 - val_loss: 0.4291\n",
      "Epoch 34/50\n",
      "132/132 - 0s - 3ms/step - accuracy: 0.8073 - loss: 0.4221 - val_accuracy: 0.7910 - val_loss: 0.4301\n",
      "Epoch 35/50\n",
      "132/132 - 0s - 3ms/step - accuracy: 0.8141 - loss: 0.4154 - val_accuracy: 0.8017 - val_loss: 0.4268\n",
      "Epoch 36/50\n",
      "132/132 - 0s - 3ms/step - accuracy: 0.8196 - loss: 0.4134 - val_accuracy: 0.7982 - val_loss: 0.4266\n",
      "Epoch 37/50\n",
      "132/132 - 0s - 3ms/step - accuracy: 0.8094 - loss: 0.4238 - val_accuracy: 0.8010 - val_loss: 0.4260\n",
      "Epoch 38/50\n",
      "132/132 - 0s - 3ms/step - accuracy: 0.8087 - loss: 0.4177 - val_accuracy: 0.7982 - val_loss: 0.4246\n",
      "Epoch 39/50\n",
      "132/132 - 0s - 3ms/step - accuracy: 0.8099 - loss: 0.4279 - val_accuracy: 0.7953 - val_loss: 0.4279\n",
      "Epoch 40/50\n",
      "132/132 - 0s - 3ms/step - accuracy: 0.8110 - loss: 0.4210 - val_accuracy: 0.8010 - val_loss: 0.4285\n",
      "Epoch 41/50\n",
      "132/132 - 0s - 3ms/step - accuracy: 0.8139 - loss: 0.4185 - val_accuracy: 0.7967 - val_loss: 0.4261\n",
      "Epoch 42/50\n",
      "132/132 - 0s - 3ms/step - accuracy: 0.8089 - loss: 0.4184 - val_accuracy: 0.7989 - val_loss: 0.4266\n",
      "Epoch 43/50\n",
      "132/132 - 0s - 3ms/step - accuracy: 0.8141 - loss: 0.4190 - val_accuracy: 0.7974 - val_loss: 0.4258\n",
      "Epoch 44/50\n",
      "132/132 - 0s - 3ms/step - accuracy: 0.8208 - loss: 0.4094 - val_accuracy: 0.7982 - val_loss: 0.4263\n",
      "Epoch 45/50\n",
      "132/132 - 0s - 3ms/step - accuracy: 0.8146 - loss: 0.4161 - val_accuracy: 0.8067 - val_loss: 0.4260\n",
      "Epoch 46/50\n",
      "132/132 - 0s - 3ms/step - accuracy: 0.8144 - loss: 0.4152 - val_accuracy: 0.7982 - val_loss: 0.4266\n",
      "Epoch 47/50\n",
      "132/132 - 0s - 3ms/step - accuracy: 0.8163 - loss: 0.4162 - val_accuracy: 0.7967 - val_loss: 0.4267\n",
      "Epoch 48/50\n",
      "132/132 - 0s - 3ms/step - accuracy: 0.8148 - loss: 0.4112 - val_accuracy: 0.7960 - val_loss: 0.4284\n",
      "Epoch 48: early stopping\n",
      "Restoring model weights from the end of the best epoch: 38.\n"
     ]
    }
   ],
   "source": [
    "history = model8.fit(X_train, y_train, epochs=50, batch_size=32, validation_data=(X_val, y_val), verbose=2, callbacks=[earlyStopping])"
   ]
  },
  {
   "cell_type": "code",
   "execution_count": 149,
   "metadata": {},
   "outputs": [
    {
     "name": "stdout",
     "output_type": "stream",
     "text": [
      "44/44 - 0s - 2ms/step - accuracy: 0.7918 - loss: 0.4518\n",
      "Loss: 0.4518153667449951, Accuracy: 0.7917554974555969\n"
     ]
    }
   ],
   "source": [
    "loss, accuracy = model8.evaluate(X_test, y_test, verbose=2)\n",
    "print(f\"Loss: {loss}, Accuracy: {accuracy}\")\n"
   ]
  },
  {
   "cell_type": "code",
   "execution_count": 151,
   "metadata": {},
   "outputs": [
    {
     "name": "stdout",
     "output_type": "stream",
     "text": [
      "\u001b[1m44/44\u001b[0m \u001b[32m━━━━━━━━━━━━━━━━━━━━\u001b[0m\u001b[37m\u001b[0m \u001b[1m0s\u001b[0m 4ms/step\n"
     ]
    }
   ],
   "source": [
    "y_pred = model8.predict(X_test)"
   ]
  },
  {
   "cell_type": "code",
   "execution_count": 153,
   "metadata": {},
   "outputs": [
    {
     "data": {
      "text/plain": [
       "2481    0\n",
       "6784    0\n",
       "6125    1\n",
       "3052    0\n",
       "4099    0\n",
       "Name: Churn, dtype: int64"
      ]
     },
     "execution_count": 153,
     "metadata": {},
     "output_type": "execute_result"
    }
   ],
   "source": [
    "y_test[:5]"
   ]
  },
  {
   "cell_type": "code",
   "execution_count": 154,
   "metadata": {},
   "outputs": [
    {
     "data": {
      "text/plain": [
       "array([[0.00491214],\n",
       "       [0.11291614],\n",
       "       [0.6971543 ],\n",
       "       [0.08408647],\n",
       "       [0.18986169]], dtype=float32)"
      ]
     },
     "execution_count": 154,
     "metadata": {},
     "output_type": "execute_result"
    }
   ],
   "source": [
    "y_pred[:5]"
   ]
  },
  {
   "cell_type": "code",
   "execution_count": 160,
   "metadata": {},
   "outputs": [],
   "source": [
    "y_prediction = []\n",
    "for prediction in y_pred:\n",
    "    if prediction > 0.5:\n",
    "        y_prediction.append(1)\n",
    "    else:\n",
    "        y_prediction.append(0)"
   ]
  },
  {
   "cell_type": "code",
   "execution_count": 161,
   "metadata": {},
   "outputs": [
    {
     "data": {
      "text/plain": [
       "[0, 0, 1, 0, 0]"
      ]
     },
     "execution_count": 161,
     "metadata": {},
     "output_type": "execute_result"
    }
   ],
   "source": [
    "y_prediction[:5]"
   ]
  },
  {
   "cell_type": "code",
   "execution_count": 162,
   "metadata": {},
   "outputs": [
    {
     "name": "stdout",
     "output_type": "stream",
     "text": [
      "1407\n",
      "1407\n"
     ]
    }
   ],
   "source": [
    "print(len(y_test))\n",
    "print(len(y_prediction))"
   ]
  },
  {
   "cell_type": "code",
   "execution_count": 164,
   "metadata": {},
   "outputs": [
    {
     "name": "stdout",
     "output_type": "stream",
     "text": [
      "              precision    recall  f1-score   support\n",
      "\n",
      "           0       0.84      0.89      0.86      1033\n",
      "           1       0.63      0.52      0.57       374\n",
      "\n",
      "    accuracy                           0.79      1407\n",
      "   macro avg       0.73      0.70      0.72      1407\n",
      "weighted avg       0.78      0.79      0.78      1407\n",
      "\n"
     ]
    }
   ],
   "source": [
    "print(classification_report(y_test, y_prediction))"
   ]
  },
  {
   "cell_type": "code",
   "execution_count": 165,
   "metadata": {},
   "outputs": [
    {
     "data": {
      "image/png": "[encoded data removed]",
      "text/plain": [
       "<Figure size 1000x700 with 2 Axes>"
      ]
     },
     "metadata": {},
     "output_type": "display_data"
    }
   ],
   "source": [
    "cm = tf.math.confusion_matrix(labels=y_test, predictions=y_prediction)\n",
    "\n",
    "plt.figure(figsize=(10, 7))\n",
    "sns.heatmap(cm, annot=True, fmt='d')\n",
    "plt.xlabel('Predicted')\n",
    "plt.ylabel('Truth')\n",
    "plt.show()"
   ]
  }
 ],
 "metadata": {
  "kernelspec": {
   "display_name": "Python 3",
   "language": "python",
   "name": "python3"
  },
  "language_info": {
   "codemirror_mode": {
    "name": "ipython",
    "version": 3
   },
   "file_extension": ".py",
   "mimetype": "text/x-python",
   "name": "python",
   "nbconvert_exporter": "python",
   "pygments_lexer": "ipython3",
   "version": "3.11.3"
  }
 },
 "nbformat": 4,
 "nbformat_minor": 2
}
